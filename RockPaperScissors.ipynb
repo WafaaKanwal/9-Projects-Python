{
  "nbformat": 4,
  "nbformat_minor": 0,
  "metadata": {
    "colab": {
      "provenance": [],
      "authorship_tag": "ABX9TyOzdhzDUm2PwmHMUo0rfBJK",
      "include_colab_link": true
    },
    "kernelspec": {
      "name": "python3",
      "display_name": "Python 3"
    },
    "language_info": {
      "name": "python"
    }
  },
  "cells": [
    {
      "cell_type": "markdown",
      "metadata": {
        "id": "view-in-github",
        "colab_type": "text"
      },
      "source": [
        "<a href=\"https://colab.research.google.com/github/WafaaKanwal/9-Projects-Python/blob/main/RockPaperScissors.ipynb\" target=\"_parent\"><img src=\"https://colab.research.google.com/assets/colab-badge.svg\" alt=\"Open In Colab\"/></a>"
      ]
    },
    {
      "cell_type": "code",
      "execution_count": null,
      "metadata": {
        "colab": {
          "base_uri": "https://localhost:8080/"
        },
        "id": "TdLCyWk3JNJy",
        "outputId": "5692c1d3-d632-4e00-88ff-e1bfa0576995"
      },
      "outputs": [
        {
          "output_type": "stream",
          "name": "stdout",
          "text": [
            "Choose Rock (r), Paper (p), or Scissors (s): r\n",
            "You chose Rock, Computer chose Scissors.\n",
            "You won!\n"
          ]
        }
      ],
      "source": [
        "import random\n",
        "\n",
        "def play():\n",
        "    choices = {'r': 'Rock', 'p': 'Paper', 's': 'Scissors'}\n",
        "    user = input(\"Choose Rock (r), Paper (p), or Scissors (s): \").lower()\n",
        "    if user not in choices:\n",
        "        print(\"Invalid choice.\")\n",
        "        return\n",
        "\n",
        "    computer = random.choice(list(choices.keys()))\n",
        "    print(f\"You chose {choices[user]}, Computer chose {choices[computer]}.\")\n",
        "\n",
        "    if user == computer:\n",
        "        print(\"It's a tie!\")\n",
        "    elif (user == 'r' and computer == 's') or (user == 's' and computer == 'p') or (user == 'p' and computer == 'r'):\n",
        "        print(\"You won!\")\n",
        "    else:\n",
        "        print(\"You lost!\")\n",
        "\n",
        "play()\n"
      ]
    }
  ]
}