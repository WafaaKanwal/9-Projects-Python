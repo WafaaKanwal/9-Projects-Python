{
  "nbformat": 4,
  "nbformat_minor": 0,
  "metadata": {
    "colab": {
      "provenance": [],
      "authorship_tag": "ABX9TyONrO6MqrRpN+f3cbrAQPbx",
      "include_colab_link": true
    },
    "kernelspec": {
      "name": "python3",
      "display_name": "Python 3"
    },
    "language_info": {
      "name": "python"
    }
  },
  "cells": [
    {
      "cell_type": "markdown",
      "metadata": {
        "id": "view-in-github",
        "colab_type": "text"
      },
      "source": [
        "<a href=\"https://colab.research.google.com/github/WafaaKanwal/9-Projects-Python/blob/main/Hangman.ipynb\" target=\"_parent\"><img src=\"https://colab.research.google.com/assets/colab-badge.svg\" alt=\"Open In Colab\"/></a>"
      ]
    },
    {
      "cell_type": "code",
      "execution_count": null,
      "metadata": {
        "id": "mG7gkASrOS6G",
        "colab": {
          "base_uri": "https://localhost:8080/"
        },
        "outputId": "905ff5f0-f32c-4ee7-af11-04199ae78202"
      },
      "outputs": [
        {
          "output_type": "stream",
          "name": "stdout",
          "text": [
            "Choose difficulty (easy, medium, hard): e\n",
            "Invalid difficulty level. Please choose from easy, medium, or hard.\n",
            "Choose difficulty (easy, medium, hard): easy\n",
            "\n",
            "Welcome to Hangman!\n",
            "The word has 3 letters. Good luck!\n",
            "\n",
            "You have 6 lives left.\n",
            "Used letters:  \n",
            "Word:  _ _ _\n",
            "Guess a letter: c\n",
            "Wrong guess! 'c' is not in the word.\n",
            "\n",
            "You have 5 lives left.\n",
            "Used letters:  c\n",
            "Word:  _ _ _\n",
            "Guess a letter: a\n",
            "Good guess!\n",
            "\n",
            "You have 5 lives left.\n",
            "Used letters:  a, c\n",
            "Word:  _ a _\n",
            "Guess a letter: h\n",
            "Good guess!\n",
            "\n",
            "You have 5 lives left.\n",
            "Used letters:  a, c, h\n",
            "Word:  h a _\n",
            "Guess a letter: t\n",
            "Good guess!\n",
            "\n",
            "Congratulations! You guessed the word 'hat'!\n",
            "\n",
            "Do you want to play again? (yes/no): no\n",
            "Thanks for playing! Goodbye!\n"
          ]
        }
      ],
      "source": [
        "import random\n",
        "import string\n",
        "\n",
        "def get_word():\n",
        "    words = {\n",
        "        \"easy\": [\"cat\", \"dog\", \"hat\"],\n",
        "        \"medium\": [\"table\", \"chair\", \"house\"],\n",
        "        \"hard\": [\"elephant\", \"giraffe\", \"mountain\"]\n",
        "    }\n",
        "    while True:\n",
        "        difficulty = input(\"Choose difficulty (easy, medium, hard): \").lower()\n",
        "        if difficulty in words:\n",
        "            return random.choice(words[difficulty])\n",
        "        else:\n",
        "            print(\"Invalid difficulty level. Please choose from easy, medium, or hard.\")\n",
        "\n",
        "def hangman():\n",
        "    while True:  # Outer loop to allow playing again\n",
        "        word = get_word()\n",
        "        word_letters = set(word)\n",
        "        alphabet = set(string.ascii_lowercase)\n",
        "        used_letters = set()\n",
        "        lives = 6\n",
        "\n",
        "        print(\"\\nWelcome to Hangman!\")\n",
        "        print(f\"The word has {len(word)} letters. Good luck!\")\n",
        "\n",
        "        while len(word_letters) > 0 and lives > 0:\n",
        "            print(f\"\\nYou have {lives} lives left.\")\n",
        "            print(\"Used letters: \", \", \".join(used_letters))\n",
        "            word_display = [letter if letter in used_letters else '_' for letter in word]\n",
        "            print(\"Word: \", \" \".join(word_display))\n",
        "\n",
        "            user_letter = input(\"Guess a letter: \").lower()\n",
        "\n",
        "            if user_letter in alphabet - used_letters:\n",
        "                used_letters.add(user_letter)\n",
        "                if user_letter in word_letters:\n",
        "                    word_letters.remove(user_letter)\n",
        "                    print(\"Good guess!\")\n",
        "                else:\n",
        "                    lives -= 1\n",
        "                    print(f\"Wrong guess! '{user_letter}' is not in the word.\")\n",
        "            elif user_letter in used_letters:\n",
        "                print(\"You already guessed that letter. Try again.\")\n",
        "            else:\n",
        "                print(\"Invalid input. Please enter a valid letter.\")\n",
        "\n",
        "        if lives == 0:\n",
        "            print(f\"\\nYou lost! The word was '{word}'.\")\n",
        "        else:\n",
        "            print(f\"\\nCongratulations! You guessed the word '{word}'!\")\n",
        "\n",
        "        play_again = input(\"\\nDo you want to play again? (yes/no): \").lower()\n",
        "        if play_again != \"yes\":\n",
        "            print(\"Thanks for playing! Goodbye!\")\n",
        "            break\n",
        "\n",
        "hangman()"
      ]
    }
  ]
}