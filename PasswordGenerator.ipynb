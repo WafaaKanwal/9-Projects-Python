{
  "nbformat": 4,
  "nbformat_minor": 0,
  "metadata": {
    "colab": {
      "provenance": [],
      "authorship_tag": "ABX9TyMHVu6mBxRsRH5ITvT8vBcD",
      "include_colab_link": true
    },
    "kernelspec": {
      "name": "python3",
      "display_name": "Python 3"
    },
    "language_info": {
      "name": "python"
    }
  },
  "cells": [
    {
      "cell_type": "markdown",
      "metadata": {
        "id": "view-in-github",
        "colab_type": "text"
      },
      "source": [
        "<a href=\"https://colab.research.google.com/github/WafaaKanwal/9-Projects-Python/blob/main/PasswordGenerator.ipynb\" target=\"_parent\"><img src=\"https://colab.research.google.com/assets/colab-badge.svg\" alt=\"Open In Colab\"/></a>"
      ]
    },
    {
      "cell_type": "code",
      "execution_count": null,
      "metadata": {
        "colab": {
          "base_uri": "https://localhost:8080/"
        },
        "id": "WVs5rnl0LIdB",
        "outputId": "a52ae337-19d6-45da-f448-57e270ab242c"
      },
      "outputs": [
        {
          "output_type": "stream",
          "name": "stdout",
          "text": [
            "Welcome To Your Password Generator!\n",
            "Amount of passwords to generate: 3\n",
            "Input your password length: 4\n",
            "\n",
            "Here are your passwords: \n",
            "hLmC\n",
            "Yg&n\n",
            "BneZ\n",
            "\n",
            "Have a great day!\n"
          ]
        }
      ],
      "source": [
        "import random\n",
        "\n",
        "print(\"Welcome To Your Password Generator!\")\n",
        "\n",
        "chars = \"abcdefghijklmnopqrstuvwxyzABCDEFGHIJKLMNOPQRSTUVWXYZ!@#$%^&*1234567890\"\n",
        "\n",
        "number = input(\"Amount of passwords to generate: \")\n",
        "number = int(number)\n",
        "\n",
        "length = input(\"Input your password length: \")\n",
        "length = int(length)\n",
        "\n",
        "print(\"\\nHere are your passwords: \")\n",
        "\n",
        "for passwords in range(number):\n",
        "  passwords = \"\"\n",
        "  for c in range(length):\n",
        "    passwords += random.choice(chars)\n",
        "  print(passwords)\n",
        "\n",
        "print(\"\\nHave a great day!\")"
      ]
    }
  ]
}