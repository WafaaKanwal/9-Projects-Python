{
  "nbformat": 4,
  "nbformat_minor": 0,
  "metadata": {
    "colab": {
      "provenance": [],
      "authorship_tag": "ABX9TyPoCtXp02gUuGfiTkle4gk8",
      "include_colab_link": true
    },
    "kernelspec": {
      "name": "python3",
      "display_name": "Python 3"
    },
    "language_info": {
      "name": "python"
    }
  },
  "cells": [
    {
      "cell_type": "markdown",
      "metadata": {
        "id": "view-in-github",
        "colab_type": "text"
      },
      "source": [
        "<a href=\"https://colab.research.google.com/github/WafaaKanwal/9-Projects-Python/blob/main/Mad_libs.ipynb\" target=\"_parent\"><img src=\"https://colab.research.google.com/assets/colab-badge.svg\" alt=\"Open In Colab\"/></a>"
      ]
    },
    {
      "cell_type": "code",
      "execution_count": null,
      "metadata": {
        "colab": {
          "base_uri": "https://localhost:8080/"
        },
        "id": "roMRP5TT7Fbw",
        "outputId": "940572ff-64ec-47f6-fea5-df3fc7048aa3"
      },
      "outputs": [
        {
          "output_type": "stream",
          "name": "stdout",
          "text": [
            "Adjective: Amazing\n",
            "Verb: Coding\n",
            "Verb: Eating\n",
            "Famous person: Nobita\n",
            "Computer programming is so Amazing! It makes me so excited all the time because I love to Coding. Stay hydrated and Eating like you are Nobita!\n"
          ]
        }
      ],
      "source": [
        "adj = input(\"Adjective: \")\n",
        "verb1 = input(\"Verb: \")\n",
        "verb2 = input(\"Verb: \")\n",
        "famous_person = input(\"Famous person: \")\n",
        "\n",
        "madlib = f\"Computer programming is so {adj}! It makes me so excited all the time because \\\n",
        "I love to {verb1}. Stay hydrated and {verb2} like you are {famous_person}!\"\n",
        "\n",
        "print(madlib)\n"
      ]
    }
  ]
}