{
  "nbformat": 4,
  "nbformat_minor": 0,
  "metadata": {
    "colab": {
      "provenance": [],
      "authorship_tag": "ABX9TyMFpYY+aQa6BNnBzThbZ9wl",
      "include_colab_link": true
    },
    "kernelspec": {
      "name": "python3",
      "display_name": "Python 3"
    },
    "language_info": {
      "name": "python"
    }
  },
  "cells": [
    {
      "cell_type": "markdown",
      "metadata": {
        "id": "view-in-github",
        "colab_type": "text"
      },
      "source": [
        "<a href=\"https://colab.research.google.com/github/WafaaKanwal/9-Projects-Python/blob/main/Guess_the_Number_(User).ipynb\" target=\"_parent\"><img src=\"https://colab.research.google.com/assets/colab-badge.svg\" alt=\"Open In Colab\"/></a>"
      ]
    },
    {
      "cell_type": "code",
      "execution_count": null,
      "metadata": {
        "colab": {
          "base_uri": "https://localhost:8080/"
        },
        "id": "UvrA4wc5tbYL",
        "outputId": "d68b775f-1db6-4238-b1f8-33639fcb2703"
      },
      "outputs": [
        {
          "output_type": "stream",
          "name": "stdout",
          "text": [
            "Think of a number between 1 and 10, and I'll try to guess it!\n",
            "Is 8 too high (H), too low (L), or correct (C)? h\n",
            "Is 6 too high (H), too low (L), or correct (C)? l\n",
            "Is 7 too high (H), too low (L), or correct (C)? c\n",
            "Yay! The computer guessed your number 7 correctly! 🎉\n"
          ]
        }
      ],
      "source": [
        "import random\n",
        "\n",
        "def computer_guess(x):\n",
        "    low = 1\n",
        "    high = x\n",
        "    feedback = ''\n",
        "\n",
        "    print(f\"Think of a number between 1 and {x}, and I'll try to guess it!\")\n",
        "\n",
        "    while feedback != 'c':\n",
        "        if low != high:\n",
        "            guess = random.randint(low, high)\n",
        "        else:\n",
        "            guess = low  # Only one number left\n",
        "\n",
        "        feedback = input(f\"Is {guess} too high (H), too low (L), or correct (C)? \").lower()\n",
        "\n",
        "        if feedback == 'h':\n",
        "            high = guess - 1\n",
        "        elif feedback == 'l':\n",
        "            low = guess + 1\n",
        "\n",
        "    print(f\"Yay! The computer guessed your number {guess} correctly! 🎉\")\n",
        "\n",
        "computer_guess(10)\n"
      ]
    }
  ]
}