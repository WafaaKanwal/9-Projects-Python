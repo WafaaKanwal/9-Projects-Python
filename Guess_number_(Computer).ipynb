{
  "nbformat": 4,
  "nbformat_minor": 0,
  "metadata": {
    "colab": {
      "provenance": [],
      "authorship_tag": "ABX9TyM8Bz10e4lMT/PUAyBTObRD",
      "include_colab_link": true
    },
    "kernelspec": {
      "name": "python3",
      "display_name": "Python 3"
    },
    "language_info": {
      "name": "python"
    }
  },
  "cells": [
    {
      "cell_type": "markdown",
      "metadata": {
        "id": "view-in-github",
        "colab_type": "text"
      },
      "source": [
        "<a href=\"https://colab.research.google.com/github/WafaaKanwal/9-Projects-Python/blob/main/Guess_number_(Computer).ipynb\" target=\"_parent\"><img src=\"https://colab.research.google.com/assets/colab-badge.svg\" alt=\"Open In Colab\"/></a>"
      ]
    },
    {
      "cell_type": "code",
      "execution_count": null,
      "metadata": {
        "colab": {
          "base_uri": "https://localhost:8080/"
        },
        "id": "-u2rhZ_bs2Lv",
        "outputId": "88ff1780-236c-442c-f125-6f70c8f2d211"
      },
      "outputs": [
        {
          "output_type": "stream",
          "name": "stdout",
          "text": [
            "Welcome to the Guess the Number game!\n",
            "Guess a number between 1 and 10.\n",
            "\n",
            "Enter your guess: 7\n",
            "Too high! Try again.\n",
            "Enter your guess: 3\n",
            "Too low! Try again.\n",
            "Enter your guess: 5\n",
            "Too high! Try again.\n",
            "Enter your guess: 4\n",
            "Yay, congrats! You guessed the number 4 correctly in 4 attempts.\n"
          ]
        }
      ],
      "source": [
        "import random\n",
        "\n",
        "def guess(x):\n",
        "    random_number = random.randint(1, x)\n",
        "    guess = None\n",
        "    attempts = 0\n",
        "\n",
        "    print(f'Welcome to the Guess the Number game!')\n",
        "    print(f'Guess a number between 1 and {x}.\\n')\n",
        "\n",
        "    while guess != random_number:\n",
        "        try:\n",
        "            guess = int(input(f'Enter your guess: '))\n",
        "            attempts += 1\n",
        "\n",
        "            if guess < random_number:\n",
        "                print('Too low! Try again.')\n",
        "            elif guess > random_number:\n",
        "                print('Too high! Try again.')\n",
        "        except ValueError:\n",
        "            print(\"Oops! That's not a valid number. Please enter an integer.\")\n",
        "\n",
        "    print(f'Yay, congrats! You guessed the number {random_number} correctly in {attempts} attempts.')\n",
        "\n",
        "guess(10)\n"
      ]
    }
  ]
}